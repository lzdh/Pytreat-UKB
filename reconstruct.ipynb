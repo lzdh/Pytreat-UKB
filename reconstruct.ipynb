{
 "cells": [
  {
   "cell_type": "code",
   "execution_count": 62,
   "metadata": {},
   "outputs": [],
   "source": [
    "import pandas as pd\n",
    "import csv\n",
    "import scipy.sparse as sp"
   ]
  },
  {
   "cell_type": "code",
   "execution_count": 2,
   "metadata": {},
   "outputs": [],
   "source": [
    "sparse_map = pd.read_csv('process_ukb825.csv',header=None)"
   ]
  },
  {
   "cell_type": "markdown",
   "metadata": {},
   "source": [
    "## Reconstruct rows"
   ]
  },
  {
   "cell_type": "code",
   "execution_count": 47,
   "metadata": {},
   "outputs": [
    {
     "name": "stdout",
     "output_type": "stream",
     "text": [
      "9.53 ms ± 54.6 µs per loop (mean ± std. dev. of 100 runs, 100 loops each)\n"
     ]
    }
   ],
   "source": [
    "### Generate a dictionary with row as keys\n",
    "indices = sparse_map[0].unique()\n",
    "rowmap = {}\n",
    "for i in indices:\n",
    "    cols = sparse_map[sparse_map[0]==i]\n",
    "    rowmap[i] = [(j, s) for j, s in zip(cols[1], cols[2])]\n"
   ]
  },
  {
   "cell_type": "code",
   "execution_count": 31,
   "metadata": {},
   "outputs": [
    {
     "data": {
      "text/plain": [
       "[(1, 934),\n",
       " (2, 827),\n",
       " (3, 541),\n",
       " (4, 1316),\n",
       " (5, 567),\n",
       " (6, 1963),\n",
       " (7, 535),\n",
       " (8, 1742),\n",
       " (9, 765),\n",
       " (10, 724),\n",
       " (11, 86)]"
      ]
     },
     "execution_count": 31,
     "metadata": {},
     "output_type": "execute_result"
    }
   ],
   "source": [
    "# Check the length of each key\n",
    "[(c, len(rowmap[c])) for c in rowmap.keys()]"
   ]
  },
  {
   "cell_type": "code",
   "execution_count": 94,
   "metadata": {},
   "outputs": [],
   "source": [
    "# reconstruct whole matrix\n",
    "# need to find a way of reconstructing with NaNs instead of 0s\n",
    "rows, cols, vals = [], [], []\n",
    "for key, values in rowmap.items():\n",
    "    for value in values:\n",
    "        rows.append(key)\n",
    "        cols.append(value[0])\n",
    "        vals.append(value[1])\n",
    "X = sp.csr_matrix((vals, (rows, cols)))"
   ]
  },
  {
   "cell_type": "code",
   "execution_count": 92,
   "metadata": {},
   "outputs": [],
   "source": [
    "# reconstruct certain rows\n",
    "rows, cols, vals =[], [], []\n",
    "row = [1,2,11] # list of row index\n",
    "sub_dict = dict((k, rowmap[k]) for k in row if k in rowmap)\n",
    "                \n",
    "for key, values in sub_dict.items():\n",
    "    for value in values:\n",
    "        rows.append(key)\n",
    "        cols.append(value[0])\n",
    "        vals.append(value[1])\n",
    "X = sp.csr_matrix((vals, (rows, cols)))"
   ]
  },
  {
   "cell_type": "markdown",
   "metadata": {},
   "source": [
    "# Save the dictionary as json file and load it"
   ]
  },
  {
   "cell_type": "code",
   "execution_count": 99,
   "metadata": {},
   "outputs": [],
   "source": [
    "import json"
   ]
  },
  {
   "cell_type": "code",
   "execution_count": 107,
   "metadata": {},
   "outputs": [],
   "source": [
    "for key in rowmap.keys():\n",
    "    if type(key) is not str:\n",
    "        try:\n",
    "            rowmap[str(key)] = rowmap[key]\n",
    "        except:\n",
    "            try:\n",
    "                rowmap[repr(key)] = rowmap[key]\n",
    "            except:\n",
    "                pass\n",
    "        del rowmap[key]"
   ]
  },
  {
   "cell_type": "code",
   "execution_count": 108,
   "metadata": {},
   "outputs": [],
   "source": [
    "# save\n",
    "with open('rowmap_dict.json', 'w') as fp:\n",
    "    json.dump(rowmap, fp)"
   ]
  },
  {
   "cell_type": "code",
   "execution_count": 109,
   "metadata": {},
   "outputs": [],
   "source": [
    "# load\n",
    "with open('rowmap_dict.json', 'r') as fp:\n",
    "    data = json.load(fp)"
   ]
  },
  {
   "cell_type": "code",
   "execution_count": null,
   "metadata": {},
   "outputs": [],
   "source": []
  }
 ],
 "metadata": {
  "kernelspec": {
   "display_name": "Python 3",
   "language": "python",
   "name": "python3"
  },
  "language_info": {
   "codemirror_mode": {
    "name": "ipython",
    "version": 3
   },
   "file_extension": ".py",
   "mimetype": "text/x-python",
   "name": "python",
   "nbconvert_exporter": "python",
   "pygments_lexer": "ipython3",
   "version": "3.6.4"
  }
 },
 "nbformat": 4,
 "nbformat_minor": 2
}
